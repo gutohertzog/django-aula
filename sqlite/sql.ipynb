{
    "cells": [
        {
            "attachments": {},
            "cell_type": "markdown",
            "metadata": {},
            "source": [
                "# SQL"
            ]
        },
        {
            "attachments": {},
            "cell_type": "markdown",
            "metadata": {},
            "source": [
                "O SQL (Structured Query Language) é uma linguagem de programação usada para gerenciar dados em bancos de dados relacionais. O SQL é usado para executar operações como inserir, atualizar, selecionar e excluir dados de um banco de dados.\n",
                "\n",
                "O SQL funciona através de comandos que são escritos em uma sintaxe específica. Os comandos do SQL são executados em um servidor de banco de dados que recebe as consultas, processa as instruções e retorna os resultados."
            ]
        },
        {
            "attachments": {},
            "cell_type": "markdown",
            "metadata": {},
            "source": [
                "Existem várias instruções SQL que podem ser usadas para manipular dados em um banco de dados. Algumas das instruções mais comuns incluem :\n",
                "\n",
                "- `SELECT` : é usada para recuperar dados de uma ou mais tabelas no banco de dados. A consulta `SELECT` permite filtrar e selecionar apenas os dados desejados;\n",
                "- `INSERT` : é usada para inserir dados em uma tabela no banco de dados;\n",
                "- `UPDATE` : é usada para atualizar dados existentes em uma tabela;\n",
                "- `DELETE` : é usada para excluir dados de uma tabela;\n",
                "- `CREATE` : é usada para criar uma nova tabela no banco de dados;\n",
                "- `DROP` : é usada para excluir uma tabela do banco de dados;\n",
                "- `ALTER` : é usada para modificar a estrutura de uma tabela existente;\n",
                "- `JOIN` : é usada para combinar dados de duas ou mais tabelas em uma única consulta;\n",
                "- `GROUP BY` : é usada para agrupar dados com base em uma ou mais colunas;\n",
                "- `ORDER BY` : é usada para classificar os dados com base em uma ou mais colunas;"
            ]
        },
        {
            "attachments": {},
            "cell_type": "markdown",
            "metadata": {},
            "source": [
                "Para executar essas instruções, é necessário conectar-se ao servidor do banco de dados usando um software cliente que permita a entrada de comandos SQL. É possível conectar-se a um banco de dados local ou remoto usando um software cliente SQL como MySQL Workbench, pgAdmin, Oracle SQL Developer, entre outros.\n",
                "\n",
                "Os comandos SQL são enviados do software cliente para o servidor do banco de dados para serem processados e executados. O servidor responde ao cliente com os resultados da consulta."
            ]
        },
        {
            "cell_type": "markdown",
            "metadata": {},
            "source": [
                "<hr>"
            ]
        },
        {
            "cell_type": "markdown",
            "metadata": {},
            "source": [
                "# SQLite"
            ]
        },
        {
            "attachments": {},
            "cell_type": "markdown",
            "metadata": {},
            "source": [
                "O [SQLite](https://www.sqlitetutorial.net/) é um sistema de gerenciamento de banco de dados relacional que suporta vários tipos de dados. Alguns dos tipos de dados suportados pelo SQLite são :\n",
                "\n",
                "- `NULL` : usado para representar valores nulos ou ausentes;\n",
                "- `INTEGER` : usado para armazenar números inteiros. O SQLite tem suporte para diferentes tipos de inteiros, como TINYINT, SMALLINT, MEDIUMINT, INT e BIGINT;\n",
                "- `REAL` : usado para armazenar números de ponto flutuante, como números decimais;\n",
                "- `TEXT` : usado para armazenar dados de texto, como nomes, descrições, mensagens etc. O SQLite suporta várias codificações de caracteres, como ASCII, UTF-8, UTF-16, entre outras;\n",
                "- `BLOB` : usado para armazenar dados binários, como imagens, arquivos de áudio e vídeo;"
            ]
        },
        {
            "attachments": {},
            "cell_type": "markdown",
            "metadata": {},
            "source": [
                "O SQLite é um banco de dados relacional que é usado em muitos aplicativos para armazenar e acessar dados. É uma escolha popular para projetos de pequena escala, pois é leve e fácil de usar.\n",
                "\n",
                "O Python possui uma biblioteca nativa para trabalhar com bancos de dados SQLite chamada `sqlite3`, presente desde a versão 2.5."
            ]
        },
        {
            "cell_type": "markdown",
            "metadata": {},
            "source": [
                "<hr>"
            ]
        },
        {
            "attachments": {},
            "cell_type": "markdown",
            "metadata": {},
            "source": [
                "## Básico"
            ]
        },
        {
            "cell_type": "markdown",
            "metadata": {},
            "source": [
                "\n",
                "A seguir, vamos ver um guia passo a passo para usar o SQLite com o Python :"
            ]
        },
        {
            "attachments": {},
            "cell_type": "markdown",
            "metadata": {},
            "source": [
                "<hr>"
            ]
        },
        {
            "attachments": {},
            "cell_type": "markdown",
            "metadata": {},
            "source": [
                "`1. Importe a biblioteca 'sqlite3' :`\n",
                "\n",
                "Antes de começar a trabalhar com o SQLite em Python, devemos importar a biblioteca `sqlite3`. Para fazer isso, temos que digitar :"
            ]
        },
        {
            "cell_type": "code",
            "execution_count": null,
            "metadata": {},
            "outputs": [],
            "source": [
                "import sqlite3"
            ]
        },
        {
            "cell_type": "markdown",
            "metadata": {},
            "source": [
                "<hr>"
            ]
        },
        {
            "attachments": {},
            "cell_type": "markdown",
            "metadata": {},
            "source": [
                "`2. Conecte-se ao banco de dados :`\n",
                "\n",
                "O próximo passo é conectar-se ao banco de dados SQLite. Para fazer isso, precisamos especificar o nome do arquivo de banco de dados SQLite. Se o arquivo não existir, ele será criado. Caso contrário, a conexão será estabelecida com o arquivo existente."
            ]
        },
        {
            "cell_type": "code",
            "execution_count": null,
            "metadata": {},
            "outputs": [],
            "source": [
                "conn = sqlite3.connect('example.db')"
            ]
        },
        {
            "cell_type": "markdown",
            "metadata": {},
            "source": [
                "<hr>"
            ]
        },
        {
            "attachments": {},
            "cell_type": "markdown",
            "metadata": {},
            "source": [
                "`3. Crie uma tabela no banco de dados :`\n",
                "\n",
                "Depois de estabelecer a conexão com o banco de dados, o próximo passo é criar uma tabela para armazenar nossos dados. Podemos fazer isso executando uma consulta SQL \"CREATE TABLE\" que especifica os nomes e tipos de coluna que deseja criar."
            ]
        },
        {
            "cell_type": "code",
            "execution_count": null,
            "metadata": {},
            "outputs": [],
            "source": [
                "c = conn.cursor()\n",
                "\n",
                "query = '''\n",
                "CREATE TABLE usuarios\n",
                "(\n",
                "    id INTEGER PRIMARY KEY,\n",
                "    nome TEXT,\n",
                "    idade INTEGER\n",
                ")\n",
                "'''\n",
                "\n",
                "c.execute(query)"
            ]
        },
        {
            "attachments": {},
            "cell_type": "markdown",
            "metadata": {},
            "source": [
                "Neste exemplo, estamos criando uma tabela chamada `usuarios` com três colunas: `id`, `nome` e `idade`. A coluna `id` é definida como uma chave primária."
            ]
        },
        {
            "cell_type": "markdown",
            "metadata": {},
            "source": [
                "<hr>"
            ]
        },
        {
            "attachments": {},
            "cell_type": "markdown",
            "metadata": {},
            "source": [
                "`4. Inserir dados na tabela :`\n",
                "\n",
                "Agora que você criamos a tabela, podemos inserir dados nela. Para fazer isso, precisamos executar uma consulta SQL `INSERT` que insere os valores nas colunas correspondentes."
            ]
        },
        {
            "cell_type": "code",
            "execution_count": null,
            "metadata": {},
            "outputs": [],
            "source": [
                "c.execute(\"INSERT INTO usuarios (nome, idade) VALUES ('Tutankamon', 15)\")"
            ]
        },
        {
            "attachments": {},
            "cell_type": "markdown",
            "metadata": {},
            "source": [
                "O comando `execute()` vai executar um comando no banco de dados."
            ]
        },
        {
            "cell_type": "markdown",
            "metadata": {},
            "source": [
                "<hr>"
            ]
        },
        {
            "attachments": {},
            "cell_type": "markdown",
            "metadata": {},
            "source": [
                "`5. Executar consultas no banco de dados :`\n",
                "\n",
                "Depois de inserir dados na tabela, você pode executar consultas SQL `SELECT` para recuperar os dados da tabela. Você pode fazer isso usando o método `execute()` para executar a consulta e o método `fetchall()` para obter os resultados."
            ]
        },
        {
            "cell_type": "code",
            "execution_count": null,
            "metadata": {},
            "outputs": [],
            "source": [
                "c.execute(\"SELECT * FROM usuarios\")\n",
                "linhas = c.fetchall()\n",
                "\n",
                "for linha in linhas:\n",
                "    print(linha)"
            ]
        },
        {
            "attachments": {},
            "cell_type": "markdown",
            "metadata": {},
            "source": [
                "Este código executa uma consulta para selecionar todos os registros da tabela `usuarios` e, em seguida, exibe os resultados na tela."
            ]
        },
        {
            "cell_type": "markdown",
            "metadata": {},
            "source": [
                "<hr>"
            ]
        },
        {
            "attachments": {},
            "cell_type": "markdown",
            "metadata": {},
            "source": [
                "`6. Fechar a conexão com o banco de dados :`\n",
                "\n",
                "Por fim, é importante fechar a conexão com o banco de dados após concluir todas as operações. Para fazer isso, você pode usar o método `close()`."
            ]
        },
        {
            "cell_type": "code",
            "execution_count": null,
            "metadata": {},
            "outputs": [],
            "source": [
                "conn.close()"
            ]
        },
        {
            "cell_type": "markdown",
            "metadata": {},
            "source": [
                "<hr>"
            ]
        },
        {
            "attachments": {},
            "cell_type": "markdown",
            "metadata": {},
            "source": [
                "Abaixo, temos um exemplo completo de uma agenda telefônica :"
            ]
        },
        {
            "cell_type": "code",
            "execution_count": null,
            "metadata": {},
            "outputs": [],
            "source": [
                "import sqlite3\n",
                "\n",
                "# Conectar-se ao banco de dados\n",
                "conn = sqlite3.connect('agenda.db')\n",
                "\n",
                "# Criar uma tabela de contatos\n",
                "c = conn.cursor()\n",
                "\n",
                "query = '''\n",
                "CREATE TABLE contatos\n",
                "(\n",
                "    id INTEGER PRIMARY KEY,\n",
                "    nome TEXT,\n",
                "    telefone TEXT\n",
                ")'''\n",
                "c.execute(query)\n",
                "\n",
                "# Inserir contatos na tabela\n",
                "c.execute(\"INSERT INTO contatos (nome, telefone) VALUES (?, ?)\", ('João Silva', '555-1234'))\n",
                "c.execute(\"INSERT INTO contatos (nome, telefone) VALUES (?, ?)\", ('Maria Santos', '555-9876'))\n",
                "c.execute(\"INSERT INTO contatos (nome, telefone) VALUES (?, ?)\", ('Pedro Souza', '555-5555'))\n",
                "\n",
                "# Salvar as alterações no banco de dados\n",
                "conn.commit()\n",
                "\n",
                "# Executar uma consulta para recuperar todos os contatos da tabela\n",
                "c.execute(\"SELECT * FROM contatos\")\n",
                "linhas = c.fetchall()\n",
                "\n",
                "# Exibir os resultados na tela\n",
                "print(\"Contatos:\")\n",
                "for linha in linhas:\n",
                "    print(f\"{linha[0]} - {linha[1]}: {linha[2]}\")\n",
                "\n",
                "# Fechar a conexão com o banco de dados\n",
                "conn.close()"
            ]
        },
        {
            "attachments": {},
            "cell_type": "markdown",
            "metadata": {},
            "source": [
                "Neste exemplo, criamos uma tabela chamada `contatos` com três colunas: `id`, `nome` e `telefone`. Em seguida, inserimos três contatos na tabela usando consultas SQL `INSERT`.\n",
                "\n",
                "Depois, salvamos as alterações no banco de dados usando o método `commit()`. Em seguida, executamos uma consulta SQL `SELECT` para selecionar todos os registros da tabela e usamos o método `fetchall()` para obter os resultados.\n",
                "\n",
                "Por fim, exibimos os resultados na tela para visualizar os contatos adicionados na tabela."
            ]
        },
        {
            "attachments": {},
            "cell_type": "markdown",
            "metadata": {},
            "source": [
                "Note que para inserir os valores na tabela, utilizamos o sinal de `interrogação (?)` como marcador de posição na consulta SQL, seguido pelos valores a serem inseridos na tabela. Isso é conhecido como `binding de parâmetros` e é uma técnica importante para evitar injeção de SQL e outros problemas de segurança."
            ]
        },
        {
            "cell_type": "markdown",
            "metadata": {},
            "source": [
                "<hr>"
            ]
        },
        {
            "attachments": {},
            "cell_type": "markdown",
            "metadata": {},
            "source": [
                "## Buscando com SELECT"
            ]
        },
        {
            "attachments": {},
            "cell_type": "markdown",
            "metadata": {},
            "source": [
                "Podemos buscar os valores e filtrando eles usando a cláusula `WHERE`. Veja o exemplo abaixo de uma atualização do código acima da agenda :"
            ]
        },
        {
            "cell_type": "code",
            "execution_count": null,
            "metadata": {},
            "outputs": [],
            "source": [
                "# Solicitar o ID do contato a ser recuperado\n",
                "contato_id = int(input(\"Digite o ID do contato que deseja visualizar: \"))\n",
                "\n",
                "# Executar uma consulta para recuperar o contato especificado pelo usuário\n",
                "c.execute(\"SELECT * FROM contatos WHERE id = ?\", (contato_id,))\n",
                "linha = c.fetchone()\n",
                "\n",
                "# Exibir o resultado na tela\n",
                "if linha:\n",
                "    print(f\"{linha[0]} - {linha[1]}: {linha[2]}\")\n",
                "else:\n",
                "    print(\"Contato não encontrado\")"
            ]
        },
        {
            "attachments": {},
            "cell_type": "markdown",
            "metadata": {},
            "source": [
                "Nesta ampliação do código, pedimos para o usuário digitar um ID do contato que quer visualizar. A função `fetchone()`, diferente da `fetchall()`, retorna apenas um único registro.\n",
                "\n",
                "Observe que, desta vez, usamos uma vírgula para indicar que a tupla de parâmetros contém apenas um valor, em vez de usar um único sinal de interrogação como na inserção de múltiplos valores. Isso ocorre porque estamos passando apenas um valor, o ID do contato.\n",
                "\n",
                "Se nenhum registro corresponder ao ID especificado, exibimos uma mensagem informando que o contato não foi encontrado."
            ]
        },
        {
            "cell_type": "markdown",
            "metadata": {},
            "source": [
                "<hr>"
            ]
        },
        {
            "attachments": {},
            "cell_type": "markdown",
            "metadata": {},
            "source": [
                "### Campos Específicos"
            ]
        },
        {
            "attachments": {},
            "cell_type": "markdown",
            "metadata": {},
            "source": [
                "Para buscar apenas os nomes dos contatos registrados na tabela `contatos` do exemplo da agenda, você pode executar uma consulta SQL `SELECT` que seleciona apenas a coluna `nome`."
            ]
        },
        {
            "cell_type": "code",
            "execution_count": null,
            "metadata": {},
            "outputs": [],
            "source": [
                "# Executar uma consulta para buscar apenas os nomes dos contatos\n",
                "c.execute(\"SELECT nome FROM contatos\")\n",
                "\n",
                "# Recuperar os resultados da consulta e exibi-los na tela\n",
                "resultados = c.fetchall()\n",
                "for nome in resultados:\n",
                "    print(nome[0])"
            ]
        },
        {
            "attachments": {},
            "cell_type": "markdown",
            "metadata": {},
            "source": [
                "Neste exemplo, executamos uma consulta SQL `SELECT` que seleciona apenas a coluna `nome` da tabela `contatos`. Em seguida, usamos o método `fetchall()` para recuperar os resultados da consulta e usamos um loop for para exibir cada nome na tela.\n",
                "\n",
                "Observe que, ao recuperar os resultados da consulta usando o método `fetchall()`, obtemos uma lista de tuplas, onde cada tupla representa um registro na tabela `contatos` contendo apenas um valor (o nome). Por isso, ao exibir os nomes na tela no loop `for`, usamos a expressão `nome[0]` para acessar o primeiro valor da tupla (o nome)."
            ]
        },
        {
            "cell_type": "markdown",
            "metadata": {},
            "source": [
                "<hr>"
            ]
        },
        {
            "attachments": {},
            "cell_type": "markdown",
            "metadata": {},
            "source": [
                "### Comando IN"
            ]
        },
        {
            "attachments": {},
            "cell_type": "markdown",
            "metadata": {},
            "source": [
                "A instrução SQL `IN` é usada para verificar se um valor está presente em uma lista de valores. Podemos usar a cláusula `IN` em uma consulta SQL para selecionar apenas os contatos cujos nomes estejam em uma lista específica."
            ]
        },
        {
            "cell_type": "code",
            "execution_count": null,
            "metadata": {},
            "outputs": [],
            "source": [
                "# Selecionar apenas os contatos cujos nomes estão na lista\n",
                "nomes = ['Alice', 'Bob', 'Carol']\n",
                "c.execute(\"SELECT * FROM contatos WHERE nome IN ({})\".format(', '.join(['?']*len(nomes))), nomes)\n",
                "resultados = c.fetchall()\n",
                "\n",
                "# Exibir os resultados na tela\n",
                "for resultado in resultados:\n",
                "    print(f\"{resultado['nome']}: {resultado['telefone']}\")"
            ]
        },
        {
            "attachments": {},
            "cell_type": "markdown",
            "metadata": {},
            "source": [
                "Observe como usamos a cláusula `WHERE` para especificar que queremos apenas os contatos cujos nomes estão na lista `nomes`. Usamos `JOIN` para juntar as strings na lista com vírgulas e, em seguida, passamos a lista de nomes como um segundo argumento para o método `execute`. Isso garante que os valores na lista sejam escapados corretamente antes de serem usados na consulta."
            ]
        },
        {
            "cell_type": "markdown",
            "metadata": {},
            "source": [
                "<hr>"
            ]
        },
        {
            "attachments": {},
            "cell_type": "markdown",
            "metadata": {},
            "source": [
                "### Comando LIKE"
            ]
        },
        {
            "attachments": {},
            "cell_type": "markdown",
            "metadata": {},
            "source": [
                "Para recuperar apenas os contatos que começam com a letra `A` (ou qualquer outra letra), podemos usar a cláusula `WHERE` em sua consulta SQL com uma expressão de comparação."
            ]
        },
        {
            "cell_type": "code",
            "execution_count": null,
            "metadata": {},
            "outputs": [],
            "source": [
                "# Inserir mais contatos na tabela\n",
                "c.execute(\"INSERT INTO contatos (nome, telefone) VALUES (?, ?)\", ('Ana Paula', '555-7777'))\n",
                "c.execute(\"INSERT INTO contatos (nome, telefone) VALUES (?, ?)\", ('Alberto Santos', '555-8888'))\n",
                "\n",
                "# Executar uma consulta para recuperar apenas os contatos que começam com a letra \"A\"\n",
                "c.execute(\"SELECT * FROM contatos WHERE nome LIKE 'A%'\")\n",
                "\n",
                "# Recuperar os resultados da consulta e exibi-los na tela\n",
                "resultados = c.fetchall()\n",
                "for contato in resultados:\n",
                "    print(contato)"
            ]
        },
        {
            "attachments": {},
            "cell_type": "markdown",
            "metadata": {},
            "source": [
                "Neste exemplo, após inserir os contatos na tabela, executamos uma consulta SQL `SELECT` para recuperar apenas os contatos cujo nome começa com a letra `A`. A cláusula `WHERE` é usada para especificar uma condição de filtragem que compara o valor da coluna `nome` com a expressão `'A%'`, que significa `qualquer valor que comece com a letra A`.\n",
                "\n",
                "Em seguida, usamos o método fetchall() para recuperar os resultados da consulta e exibimos cada contato na tela usando um loop `for`.\n",
                "\n",
                "Observe que, neste exemplo, usamos o operador `LIKE` para comparar os valores da coluna `nome`. Este operador permite que você use caracteres curinga (como `%` e `_`) para corresponder a qualquer sequência de caracteres ou um único caractere, respectivamente. Por exemplo, a expressão `'A%'` corresponde a qualquer valor que comece com a letra A, enquanto a expressão `%Paula` corresponde a qualquer valor que termine com a sequência `Paula`."
            ]
        },
        {
            "cell_type": "markdown",
            "metadata": {},
            "source": [
                "<hr>"
            ]
        },
        {
            "attachments": {},
            "cell_type": "markdown",
            "metadata": {},
            "source": [
                "### Comando LIMIT"
            ]
        },
        {
            "attachments": {},
            "cell_type": "markdown",
            "metadata": {},
            "source": [
                "Podemos usar a condição `LIMIT` para limitar a quantidade de registros que queremos buscar. Veja abaixo como faríamos isso na agenda :"
            ]
        },
        {
            "cell_type": "code",
            "execution_count": null,
            "metadata": {},
            "outputs": [],
            "source": [
                "# Executar uma consulta para buscar pelos 2 primeiros registros\n",
                "c.execute(\"SELECT * FROM contatos LIMIT 2\")\n",
                "linhas = c.fetchall()"
            ]
        },
        {
            "attachments": {},
            "cell_type": "markdown",
            "metadata": {},
            "source": [
                "Neste exemplo, após inserir os contatos na tabela, executamos uma consulta SQL \"SELECT\" para selecionar os 2 primeiros registros da tabela, usando a cláusula `LIMIT 2`.\n",
                "\n",
                "Em seguida, usamos o método `fetchall()` para obter uma lista de todos os registros selecionados e percorremos a lista com um loop `for` para exibir os resultados na tela.\n",
                "\n",
                "Observe que, neste exemplo, não solicitamos a entrada do usuário, mas sim buscamos diretamente pelos 2 primeiros registros da tabela. Se você quiser permitir que o usuário especifique o número de registros a serem exibidos, basta modificar a consulta SQL para incluir uma variável que contenha o número de registros desejados, por exemplo: `LIMIT ?`, e passar o número de registros como um parâmetro na chamada de `execute()`."
            ]
        },
        {
            "cell_type": "markdown",
            "metadata": {},
            "source": [
                "<hr>"
            ]
        },
        {
            "attachments": {},
            "cell_type": "markdown",
            "metadata": {},
            "source": [
                "### Comando ORDER BY"
            ]
        },
        {
            "attachments": {},
            "cell_type": "markdown",
            "metadata": {},
            "source": [
                "A instrução SQL `ORDER BY` é usada para classificar as linhas de uma consulta em ordem crescente ou decrescente com base no valor de uma ou mais colunas. No exemplo da agenda, podemos usar `ORDER BY` para classificar os contatos em ordem alfabética com base em seus nomes."
            ]
        },
        {
            "cell_type": "code",
            "execution_count": null,
            "metadata": {},
            "outputs": [],
            "source": [
                "# Selecionar todos os contatos, classificados em ordem alfabética por nome\n",
                "c.execute(\"SELECT * FROM contatos ORDER BY nome ASC\")\n",
                "resultados = c.fetchall()\n",
                "\n",
                "# Exibir os resultados na tela\n",
                "for resultado in resultados:\n",
                "    print(f\"{resultado['nome']}: {resultado['telefone']}\")"
            ]
        },
        {
            "attachments": {},
            "cell_type": "markdown",
            "metadata": {},
            "source": [
                "Observe como usamos `ASC` para classificar em ordem crescente. Se quisermos classificar em ordem decrescente, podemos usar `DESC` em vez de `ASC`."
            ]
        },
        {
            "cell_type": "markdown",
            "metadata": {},
            "source": [
                "<hr>"
            ]
        },
        {
            "attachments": {},
            "cell_type": "markdown",
            "metadata": {},
            "source": [
                "## Comando COMMIT"
            ]
        },
        {
            "attachments": {},
            "cell_type": "markdown",
            "metadata": {},
            "source": [
                "Em um banco de dados SQLite, o comando `COMMIT` é usado para confirmar as alterações feitas nas tabelas do banco de dados. Quando você faz uma alteração em uma tabela, como uma `inserção`, `atualização` ou `exclusão`, a alteração não é imediatamente gravada no disco, mas é armazenada em uma área temporária chamada `transação`. O objetivo dessa área é permitir que várias alterações sejam agrupadas e aplicadas de uma só vez, o que pode melhorar o desempenho e garantir a integridade dos dados.\n",
                "\n",
                "O comando `COMMIT` é usado para confirmar todas as alterações realizadas na transação e gravar as alterações no disco. Se ocorrer um erro antes do comando `COMMIT` ser executado, as alterações serão revertidas e o banco de dados retornará ao seu estado anterior.\n",
                "\n",
                "Aqui está um exemplo de como usar o comando `COMMIT` ao atualizar um registro na tabela `contatos` na agenda :"
            ]
        },
        {
            "cell_type": "code",
            "execution_count": null,
            "metadata": {},
            "outputs": [],
            "source": [
                "# Conectar-se ao banco de dados e obter um cursor\n",
                "conn = sqlite3.connect('agenda.db')\n",
                "c = conn.cursor()\n",
                "\n",
                "# Atualizar o telefone do contato com nome 'Alice'\n",
                "c.execute(\"UPDATE contatos SET telefone = ? WHERE nome = ?\", ('555-1234', 'Alice'))\n",
                "\n",
                "# Confirmar as alterações no banco de dados\n",
                "conn.commit()\n",
                "\n",
                "# Fechar a conexão com o banco de dados\n",
                "conn.close()"
            ]
        },
        {
            "attachments": {},
            "cell_type": "markdown",
            "metadata": {},
            "source": [
                "Observe como chamamos o método `commit()` após a atualização do registro. Isso garante que a atualização seja confirmada no banco de dados e persista mesmo após o programa ser encerrado.\n",
                "\n",
                "É importante lembrar que o comando `COMMIT` deve ser usado com cuidado, pois pode causar perda de dados se usado incorretamente. Em geral, é uma boa prática executar o comando `COMMIT` apenas depois que todas as alterações na transação forem concluídas e verificadas."
            ]
        },
        {
            "cell_type": "markdown",
            "metadata": {},
            "source": [
                "<hr>"
            ]
        },
        {
            "attachments": {},
            "cell_type": "markdown",
            "metadata": {},
            "source": [
                "## Atualizando com UPDATE"
            ]
        },
        {
            "attachments": {},
            "cell_type": "markdown",
            "metadata": {},
            "source": [
                "Para atualizar um registro na tabela de contatos, usamos a cláusula `UPDATE` em sua consulta SQL."
            ]
        },
        {
            "cell_type": "code",
            "execution_count": null,
            "metadata": {},
            "outputs": [],
            "source": [
                "# Solicitar o ID do contato a ser atualizado\n",
                "contato_id = int(input(\"Digite o ID do contato que deseja atualizar: \"))\n",
                "\n",
                "# Solicitar o novo número de telefone\n",
                "novo_telefone = input(\"Digite o novo número de telefone: \")\n",
                "\n",
                "# Executar uma consulta para atualizar o número de telefone do contato especificado pelo usuário\n",
                "c.execute(\"UPDATE contatos SET telefone = ? WHERE id = ?\", (novo_telefone, contato_id))\n",
                "\n",
                "# Salvar as alterações no banco de dados\n",
                "conn.commit()\n",
                "\n",
                "# Exibir uma mensagem de confirmação na tela\n",
                "print(\"Contato atualizado com sucesso\")"
            ]
        },
        {
            "attachments": {},
            "cell_type": "markdown",
            "metadata": {},
            "source": [
                "Neste exemplo, após inserir os contatos na tabela, solicitamos ao usuário que digite o `ID` do contato que deseja atualizar e o novo número de telefone para este contato.\n",
                "\n",
                "Em seguida, executamos uma consulta SQL `UPDATE` para atualizar o número de telefone do contato especificado pelo usuário, usando o operador `=` na cláusula `WHERE`. Observe que, neste caso, usamos dois sinais de interrogação na chamada de `execute()` para passar dois parâmetros: o novo número de telefone e o ID do contato.\n",
                "\n",
                "Finalmente, usamos o método `commit()` para salvar as alterações no banco de dados e exibimos uma mensagem de confirmação na tela.\n",
                "\n",
                "Observe que, neste exemplo, apenas o número de telefone do contato é atualizado. Se você quiser permitir que o usuário atualize outros campos, basta modificar a consulta SQL para incluir as colunas e os novos valores correspondentes."
            ]
        },
        {
            "cell_type": "markdown",
            "metadata": {},
            "source": [
                "<hr>"
            ]
        },
        {
            "attachments": {},
            "cell_type": "markdown",
            "metadata": {},
            "source": [
                "## Apagando com DELETE"
            ]
        },
        {
            "attachments": {},
            "cell_type": "markdown",
            "metadata": {},
            "source": [
                "Para apagar um registro da tabela `contatos` no exemplo da agenda, você pode executar uma consulta SQL `DELETE` que selecione o registro a ser excluído com base em sua chave primária."
            ]
        },
        {
            "cell_type": "code",
            "execution_count": null,
            "metadata": {},
            "outputs": [],
            "source": [
                "# Apagar o contato com o ID 3\n",
                "c.execute(\"DELETE FROM contatos WHERE id = ?\", (3,))\n",
                "\n",
                "# Exibir todos os contatos restantes na tabela\n",
                "c.execute(\"SELECT * FROM contatos\")\n",
                "resultados = c.fetchall()\n",
                "for contato in resultados:\n",
                "    print(contato)"
            ]
        },
        {
            "attachments": {},
            "cell_type": "markdown",
            "metadata": {},
            "source": [
                "Neste exemplo, executamos uma consulta SQL `DELETE` que exclui o contato com o ID 3 da tabela `contatos`. Em seguida, executamos uma consulta SQL `SELECT` para recuperar todos os contatos restantes na tabela e exibimos esses contatos na tela usando um loop for.\n",
                "\n",
                "Observe que, ao executar a consulta SQL `DELETE`, usamos um `ponto de interrogação (?)` como um marcador de posição para o valor do ID do contato a ser excluído. Em seguida, passamos o valor real do ID do contato como um segundo argumento para o método `execute()` na forma de uma tupla com um único elemento. Isso evita vulnerabilidades de segurança como a injeção de SQL."
            ]
        },
        {
            "cell_type": "markdown",
            "metadata": {},
            "source": [
                "<hr>"
            ]
        },
        {
            "attachments": {},
            "cell_type": "markdown",
            "metadata": {},
            "source": [
                "## Chave Estrangeira e JOIN"
            ]
        },
        {
            "attachments": {},
            "cell_type": "markdown",
            "metadata": {},
            "source": [
                "Como vimos anteriormente, utilizamos uma `Chave Primária (PK)` para garantir que os registros na nossa tabela sejam únicos. Além disso, a PK tem outra funcionalidade, que é garantir que os dados entre tabelas sejam íntegros através da `Chave Estrangeira (FK)`.\n",
                "\n",
                "Usando a agenda como exemplo para duas tabelas, podemos criar uma tabela `contatos` que armazena informações básicas de contato (como nome e telefone) e uma tabela `enderecos` que armazena informações de endereço para cada contato. Podemos então juntar essas tabelas usando a chave primária de `contatos` como uma chave estrangeira em `enderecos`."
            ]
        },
        {
            "cell_type": "code",
            "execution_count": null,
            "metadata": {},
            "outputs": [],
            "source": [
                "import sqlite3\n",
                "\n",
                "# Conectar-se ao banco de dados\n",
                "conn = sqlite3.connect('agenda.db')\n",
                "\n",
                "# Criar uma tabela de contatos\n",
                "c = conn.cursor()\n",
                "c.execute('''CREATE TABLE contatos\n",
                "             (id INTEGER PRIMARY KEY,\n",
                "              nome TEXT,\n",
                "              telefone TEXT)''')\n",
                "\n",
                "# Criar uma tabela de endereços\n",
                "c.execute('''CREATE TABLE enderecos\n",
                "             (id INTEGER PRIMARY KEY,\n",
                "              contato_id INTEGER,\n",
                "              rua TEXT,\n",
                "              cidade TEXT,\n",
                "              estado TEXT,\n",
                "              cep TEXT,\n",
                "              FOREIGN KEY(contato_id) REFERENCES contatos(id))''')\n",
                "\n",
                "# Inserir alguns contatos e endereços na tabela\n",
                "c.execute(\"INSERT INTO contatos (nome, telefone) VALUES (?, ?)\", ('João Silva', '555-1234'))\n",
                "contato_id = c.lastrowid\n",
                "c.execute(\"INSERT INTO enderecos (contato_id, rua, cidade, estado, cep) VALUES (?, ?, ?, ?, ?)\", (contato_id, 'Rua A', 'São Paulo', 'SP', '01001-000'))\n",
                "\n",
                "c.execute(\"INSERT INTO contatos (nome, telefone) VALUES (?, ?)\", ('Maria Santos', '555-9876'))\n",
                "contato_id = c.lastrowid\n",
                "c.execute(\"INSERT INTO enderecos (contato_id, rua, cidade, estado, cep) VALUES (?, ?, ?, ?, ?)\", (contato_id, 'Rua B', 'Rio de Janeiro', 'RJ', '02002-000'))\n",
                "\n",
                "c.execute(\"INSERT INTO contatos (nome, telefone) VALUES (?, ?)\", ('Pedro Souza', '555-5555'))\n",
                "contato_id = c.lastrowid\n",
                "c.execute(\"INSERT INTO enderecos (contato_id, rua, cidade, estado, cep) VALUES (?, ?, ?, ?, ?)\", (contato_id, 'Rua C', 'Belo Horizonte', 'MG', '03003-000'))\n",
                "\n",
                "# Selecionar todos os contatos com seus respectivos endereços\n",
                "c.execute(\"SELECT contatos.nome, contatos.telefone, enderecos.rua, enderecos.cidade, enderecos.estado, enderecos.cep FROM contatos JOIN enderecos ON contatos.id = enderecos.contato_id\")\n",
                "resultados = c.fetchall()\n",
                "\n",
                "# Exibir os contatos e endereços na tela\n",
                "for contato in resultados:\n",
                "    print(f'Nome: {contato[0]}')\n",
                "    print(f'Telefone: {contato[1]}')\n",
                "    print(f'Rua: {contato[2]}')\n",
                "    print(f'Cidade: {contato[3]}')\n",
                "    print(f'Estado: {contato[4]}')\n",
                "    print(f'CEP: {contato[5]}')\n",
                "    print('')\n",
                "    \n",
                "# Fechar a conexão com o banco de dados\n",
                "conn.close()"
            ]
        },
        {
            "attachments": {},
            "cell_type": "markdown",
            "metadata": {},
            "source": [
                "Neste exemplo, a tabela `contatos` contém as colunas `id`, `nome` e `telefone`, enquanto a tabela `enderecos` contém as colunas `id`, `contato_id`, `rua`, `cidade`, `estado` e `cep`. A coluna `contato_id` em `enderecos` é uma chave estrangeira que faz referência à coluna `id` em `contatos`. A instrução SQL JOIN é usada para combinar as linhas nas duas tabelas, com base na correspondência entre as colunas `id` e `contato_id`.\n",
                "\n",
                "O resultado final é uma lista de todos os contatos com seus respectivos endereços, que é então exibida na tela. Se você quiser apenas os nomes dos contatos, pode alterar a instrução SQL para selecionar apenas a coluna `nome` da tabela `contatos` :"
            ]
        },
        {
            "cell_type": "code",
            "execution_count": null,
            "metadata": {},
            "outputs": [],
            "source": [
                "# Selecionar apenas os nomes dos contatos\n",
                "c.execute(\"SELECT nome FROM contatos\")\n",
                "resultados = c.fetchall()\n",
                "\n",
                "# Exibir os nomes dos contatos na tela\n",
                "for contato in resultados:\n",
                "    print(contato[0])"
            ]
        },
        {
            "cell_type": "markdown",
            "metadata": {},
            "source": [
                "<hr>"
            ]
        },
        {
            "attachments": {},
            "cell_type": "markdown",
            "metadata": {},
            "source": [
                "## Erros com SQLite"
            ]
        },
        {
            "attachments": {},
            "cell_type": "markdown",
            "metadata": {},
            "source": [
                "O tratamento de erros e exceções é uma parte importante da programação em Python. Quando estamos trabalhando com bancos de dados, é especialmente importante lidar com erros que possam ocorrer ao executar instruções SQL.\n",
                "\n",
                "Uma maneira de lidar com erros é usar um bloco `try-except` em torno de nossas instruções SQL. Isso nos permite capturar exceções e lidar com elas de maneira apropriada. Aqui está um exemplo de como fazer isso com a tabela `contatos` na agenda :"
            ]
        },
        {
            "cell_type": "code",
            "execution_count": null,
            "metadata": {},
            "outputs": [],
            "source": [
                "import sqlite3\n",
                "from sqlite3 import Error\n",
                "\n",
                "# Tentar inserir um novo contato e lidar com possíveis erros\n",
                "try:\n",
                "    # Conectar-se ao banco de dados e obter um cursor\n",
                "    conn = sqlite3.connect('agenda.db')\n",
                "    c = conn.cursor()\n",
                "\n",
                "    # Inserir um novo contato na tabela\n",
                "    c.execute(\"INSERT INTO contatos (nome, telefone) VALUES (?, ?)\", ('Daniel', '555-4321'))\n",
                "\n",
                "# Capturar qualquer exceção que possa ser levantada\n",
                "except Error as e:\n",
                "    print(\"Ocorreu um erro:\", e)\n",
                "\n",
                "# Executar este bloco somente se a inserção for bem-sucedida\n",
                "else:\n",
                "    print(\"Novo contato inserido com sucesso!\")\n",
                "\n",
                "# Finalmente, fechar a conexão com o banco de dados\n",
                "finally:\n",
                "    conn.close()"
            ]
        },
        {
            "attachments": {},
            "cell_type": "markdown",
            "metadata": {},
            "source": [
                "Observe como usamos um bloco `try-except` para capturar qualquer exceção que possa ser levantada durante a execução da consulta SQL. Se ocorrer um erro, imprimimos uma mensagem de erro para o usuário. Independentemente de ocorrer um erro ou não, sempre fechamos a conexão com o banco de dados no bloco `finally`."
            ]
        },
        {
            "cell_type": "markdown",
            "metadata": {},
            "source": [
                "<hr>"
            ]
        },
        {
            "attachments": {},
            "cell_type": "markdown",
            "metadata": {},
            "source": [
                "## Banco de Dados em Memória"
            ]
        },
        {
            "attachments": {},
            "cell_type": "markdown",
            "metadata": {},
            "source": [
                "Para usar o SQLite com um banco de dados em memória, você pode usar a string especial `':memory:'` no lugar do nome do arquivo de banco de dados.\n",
                "\n",
                "Aqui está um exemplo de como criar uma tabela `contatos` em um banco de dados SQLite em memória, inserir alguns dados e fazer uma consulta :"
            ]
        },
        {
            "cell_type": "code",
            "execution_count": null,
            "metadata": {},
            "outputs": [],
            "source": [
                "import sqlite3\n",
                "\n",
                "# Conectar-se ao banco de dados em memória\n",
                "conn = sqlite3.connect(':memory:')\n",
                "\n",
                "# Obter um cursor\n",
                "c = conn.cursor()\n",
                "\n",
                "# Criar uma tabela \"contatos\"\n",
                "c.execute('''CREATE TABLE contatos\n",
                "             (nome text, telefone text, email text)''')\n",
                "\n",
                "# Inserir alguns dados\n",
                "c.execute(\"INSERT INTO contatos VALUES ('Alice', '555-1234', 'alice@example.com')\")\n",
                "c.execute(\"INSERT INTO contatos VALUES ('Bob', '555-5678', 'bob@example.com')\")\n",
                "c.execute(\"INSERT INTO contatos VALUES ('Charlie', '555-9012', 'charlie@example.com')\")\n",
                "\n",
                "# Fazer uma consulta\n",
                "c.execute(\"SELECT * FROM contatos\")\n",
                "resultados = c.fetchall()\n",
                "\n",
                "# Imprimir os resultados\n",
                "for linha in resultados:\n",
                "    print(linha)\n",
                "\n",
                "# Fechar a conexão com o banco de dados\n",
                "conn.close()"
            ]
        },
        {
            "attachments": {},
            "cell_type": "markdown",
            "metadata": {},
            "source": [
                "Observe que, no início do exemplo, usamos a string `':memory:'` para se conectar ao banco de dados em memória. Em seguida, criamos uma tabela `contatos`, inserimos alguns dados e fazemos uma consulta. Finalmente, fechamos a conexão com o banco de dados.\n",
                "\n",
                "Usar um banco de dados em memória pode ser útil em situações em que você precisa armazenar temporariamente dados que não precisam ser preservados depois que o programa é encerrado. Por exemplo, se você precisar realizar cálculos complexos que envolvam grandes quantidades de dados, pode ser mais rápido e mais eficiente criar um banco de dados em memória para armazenar temporariamente os dados de entrada e saída."
            ]
        },
        {
            "cell_type": "markdown",
            "metadata": {},
            "source": [
                "<hr>"
            ]
        },
        {
            "attachments": {},
            "cell_type": "markdown",
            "metadata": {},
            "source": [
                "## Usando Funções"
            ]
        },
        {
            "attachments": {},
            "cell_type": "markdown",
            "metadata": {},
            "source": [
                "Agora, vamos alterar o código para utilizar uma funções para nossas conexões :"
            ]
        },
        {
            "cell_type": "code",
            "execution_count": null,
            "metadata": {},
            "outputs": [],
            "source": [
                "import sqlite3\n",
                "\n",
                "def criar_tabela_contatos():\n",
                "    # Conectar-se ao banco de dados\n",
                "    conn = sqlite3.connect('agenda.db')\n",
                "\n",
                "    # Obter um cursor\n",
                "    c = conn.cursor()\n",
                "\n",
                "    # Criar uma tabela \"contatos\", se ela não existir\n",
                "    c.execute('''CREATE TABLE IF NOT EXISTS contatos\n",
                "                 (id INTEGER PRIMARY KEY AUTOINCREMENT,\n",
                "                  nome TEXT,\n",
                "                  telefone TEXT,\n",
                "                  email TEXT)''')\n",
                "\n",
                "    # Fechar a conexão com o banco de dados\n",
                "    conn.close()\n",
                "\n",
                "def inserir_contato(nome, telefone, email):\n",
                "    # Conectar-se ao banco de dados\n",
                "    conn = sqlite3.connect('agenda.db')\n",
                "\n",
                "    # Obter um cursor\n",
                "    c = conn.cursor()\n",
                "\n",
                "    # Inserir o contato na tabela \"contatos\"\n",
                "    c.execute(\"INSERT INTO contatos (nome, telefone, email) VALUES (?, ?, ?)\", (nome, telefone, email))\n",
                "\n",
                "    # Salvar as alterações no banco de dados\n",
                "    conn.commit()\n",
                "\n",
                "    # Fechar a conexão com o banco de dados\n",
                "    conn.close()\n",
                "\n",
                "def buscar_contatos():\n",
                "    # Conectar-se ao banco de dados\n",
                "    conn = sqlite3.connect('agenda.db')\n",
                "\n",
                "    # Obter um cursor\n",
                "    c = conn.cursor()\n",
                "\n",
                "    # Fazer uma consulta\n",
                "    c.execute(\"SELECT * FROM contatos\")\n",
                "    resultados = c.fetchall()\n",
                "\n",
                "    # Fechar a conexão com o banco de dados\n",
                "    conn.close()\n",
                "\n",
                "    return resultados\n",
                "\n",
                "# Criar a tabela \"contatos\", se ela não existir\n",
                "criar_tabela_contatos()\n",
                "\n",
                "# Inserir alguns contatos\n",
                "inserir_contato('Alice', '555-1234', 'alice@example.com')\n",
                "inserir_contato('Bob', '555-5678', 'bob@example.com')\n",
                "inserir_contato('Charlie', '555-9012', 'charlie@example.com')\n",
                "\n",
                "# Buscar os contatos e imprimir os resultados\n",
                "contatos = buscar_contatos()\n",
                "for contato in contatos:\n",
                "    print(contato)"
            ]
        },
        {
            "attachments": {},
            "cell_type": "markdown",
            "metadata": {},
            "source": [
                "Neste exemplo, definimos três funções: `criar_tabela_contatos`, `inserir_contato` e `buscar_contatos`. A função `criar_tabela_contatos` é responsável por criar a tabela `contatos` se ela ainda não existir. A função `inserir_contato` é responsável por inserir um novo contato na tabela `contatos`. A função `buscar_contatos` é responsável por fazer uma consulta na tabela `contatos` e retornar os resultados.\n",
                "\n",
                "Na parte principal do programa, chamamos a função `criar_tabela_contatos` para garantir que a tabela `contatos` exista. Em seguida, chamamos a função `inserir_contato` para inserir alguns contatos. Por fim, chamamos a função `buscar_contatos` para buscar todos os contatos na tabela `contatos` e imprimimos os resultados."
            ]
        },
        {
            "cell_type": "markdown",
            "metadata": {},
            "source": [
                "<hr>"
            ]
        },
        {
            "attachments": {},
            "cell_type": "markdown",
            "metadata": {},
            "source": [
                "## Usando Classes"
            ]
        },
        {
            "attachments": {},
            "cell_type": "markdown",
            "metadata": {},
            "source": [
                "Classe para conexão com o banco de dados :"
            ]
        },
        {
            "cell_type": "code",
            "execution_count": null,
            "metadata": {},
            "outputs": [],
            "source": [
                "import sqlite3\n",
                "\n",
                "class BancoDados:\n",
                "    def __init__(self, banco_dados):\n",
                "        self.conexao = sqlite3.connect(banco_dados)\n",
                "        self.cursor = self.conexao.cursor()\n",
                "\n",
                "    def close(self):\n",
                "        self.conexao.close()\n",
                "\n",
                "    def commit(self):\n",
                "        self.conexao.commit()\n",
                "        \n",
                "    def execute(self, query, params=None):\n",
                "        if params:\n",
                "            self.cursor.execute(query, params)\n",
                "        else:\n",
                "            self.cursor.execute(query)\n",
                "\n",
                "    def fetchall(self):\n",
                "        return self.cursor.fetchall()\n",
                "\n",
                "    def fetchone(self):\n",
                "        return self.cursor.fetchone()"
            ]
        },
        {
            "attachments": {},
            "cell_type": "markdown",
            "metadata": {},
            "source": [
                "Classe para os dados inseridos e buscados na tabela :"
            ]
        },
        {
            "cell_type": "code",
            "execution_count": null,
            "metadata": {},
            "outputs": [],
            "source": [
                "class Contato:\n",
                "    def __init__(self, nome, telefone):\n",
                "        self.nome = nome\n",
                "        self.telefone = telefone\n",
                "\n",
                "    def salva(self, banco_dados):\n",
                "        query = \"INSERT INTO contatos (nome, telefone) VALUES (?, ?)\"\n",
                "        banco_dados.execute(query, (self.nome, self.telefone))\n",
                "        banco_dados.commit()\n",
                "\n",
                "    @staticmethod\n",
                "    def busca_todos(database):\n",
                "        query = \"SELECT * FROM contatos\"\n",
                "        database.execute(query)\n",
                "        results = database.fetchall()\n",
                "        contacts = []\n",
                "        for result in results:\n",
                "            contact = Contato(result[1], result[2])\n",
                "            contacts.append(contact)\n",
                "        return contacts"
            ]
        },
        {
            "attachments": {},
            "cell_type": "markdown",
            "metadata": {},
            "source": [
                "Exemplo de uso :"
            ]
        },
        {
            "cell_type": "code",
            "execution_count": null,
            "metadata": {},
            "outputs": [],
            "source": [
                "database = BancoDados(':memory:')\n",
                "database.execute(\"CREATE TABLE contatos (id INTEGER PRIMARY KEY, nome TEXT, telefone TEXT)\")\n",
                "\n",
                "contato_1 = Contato('Alice', '123456789')\n",
                "contato_1.salva(database)\n",
                "\n",
                "contato_2 = Contato('Bob', '987654321')\n",
                "contato_2.salva(database)\n",
                "\n",
                "contatos = Contato.busca_todos(database)\n",
                "for contato in contatos:\n",
                "    print(contato.nome, contato.telefone)\n",
                "\n",
                "database.close()"
            ]
        },
        {
            "attachments": {},
            "cell_type": "markdown",
            "metadata": {},
            "source": [
                "Esse exemplo utiliza uma abordagem mais orientada a objetos para o uso do SQLite no Python. A classe `BancoDados` encapsula a conexão com o banco de dados e fornece métodos para executar consultas e atualizações no banco de dados, além de realizar o commit das transações.\n",
                "\n",
                "A classe `Contato` representa os dados dos contatos que serão armazenados na tabela. Ela possui um método `salva` que recebe uma instância de `BancoDados` como parâmetro e insere o contato na tabela. Além disso, possui um método estático `busca_todos` que retorna todos os contatos da tabela em forma de objetos `Contato`.\n",
                "\n",
                "No exemplo de uso, é criado um banco de dados em memória (`':memory:'`) e a tabela de contatos é criada. Dois contatos são criados e salvos na tabela utilizando a classe `Contato`. Em seguida, todos os contatos da tabela são recuperados e impressos na tela. Finalmente, a conexão com o banco de dados é fechada."
            ]
        }
    ],
    "metadata": {
        "kernelspec": {
            "display_name": "Python 3",
            "language": "python",
            "name": "python3"
        },
        "language_info": {
            "name": "python",
            "version": "3.11.1"
        },
        "orig_nbformat": 4,
        "vscode": {
            "interpreter": {
                "hash": "5238573367df39f7286bb46f9ff5f08f63a01a80960060ce41e3c79b190280fa"
            }
        }
    },
    "nbformat": 4,
    "nbformat_minor": 2
}
