{
    "cells": [
        {
            "attachments": {},
            "cell_type": "markdown",
            "metadata": {},
            "source": [
                "# Novo Projeto Django"
            ]
        },
        {
            "attachments": {},
            "cell_type": "markdown",
            "metadata": {},
            "source": [
                "Este é um documento com o passo-a-passo da criação de um projeto em Django de forma eficiente, sem as idas e vindas do material de aula."
            ]
        },
        {
            "attachments": {},
            "cell_type": "markdown",
            "metadata": {},
            "source": [
                "Para este projeto, vai ser criado um projeto chamado `futebol`, onde os aplicativos (subdomínios) serão pertencentes a clubes de futebol."
            ]
        },
        {
            "attachments": {},
            "cell_type": "markdown",
            "metadata": {},
            "source": [
                "## Preparando os Programas"
            ]
        },
        {
            "attachments": {},
            "cell_type": "markdown",
            "metadata": {},
            "source": [
                "### Visual Studio Code"
            ]
        },
        {
            "attachments": {},
            "cell_type": "markdown",
            "metadata": {},
            "source": [
                "Para este projeto, será usado o `Visual Studio Code` (`VS Code`).\n",
                "\n",
                "Para baixá-lo, basta entrar no site do [VS Code](https://code.visualstudio.com/) e clicar em `Download` que a versão para seu sistema operacional será baixado automaticamente.\n",
                "\n",
                "Siga os passos da instalação apresentados."
            ]
        },
        {
            "attachments": {},
            "cell_type": "markdown",
            "metadata": {},
            "source": [
                "Após instalador, usaremos as seguintes extensões :\n",
                "- ms-python.python;\n",
                "- batisteo.vscode-django;\n",
                "- VisualStudioExptTeam.vscodeintellicode;\n",
                "- ms-toolsai.jupyter;"
            ]
        },
        {
            "attachments": {},
            "cell_type": "markdown",
            "metadata": {},
            "source": [
                "### Python > 3.11"
            ]
        },
        {
            "attachments": {},
            "cell_type": "markdown",
            "metadata": {},
            "source": [
                "Baixe a última versão do [Python aqui](https://www.python.org/downloads/).\n",
                "\n",
                "Após baixado, instale para seu `usuário` ou como `administrador`. O importante para ambos os casos é marcar a opção `Add Python to environment variables`. Isso vai garantir que o programa seja encontrado por qualquer aplicação do seu computador.\n",
                "\n",
                "Para se certificar que o Python está corretamente instalado, abra o `Promtp de Comando` e digite :"
            ]
        },
        {
            "cell_type": "code",
            "execution_count": null,
            "metadata": {
                "vscode": {
                    "languageId": "shellscript"
                }
            },
            "outputs": [],
            "source": [
                "# no prompt de comando\n",
                "C:\\Users\\<seu usuario>\\Desktop>python --version\n",
                "Python 3.11.1"
            ]
        },
        {
            "cell_type": "code",
            "execution_count": null,
            "metadata": {
                "vscode": {
                    "languageId": "shellscript"
                }
            },
            "outputs": [],
            "source": [
                "# no prompt de comando\n",
                "C:\\Users\\<seu usuario>\\Desktop>>python -VV\n",
                "Python 3.11.1 (tags/v3.11.1:a7a450f, Dec  6 2022, 19:58:39) [MSC v.1934 64 bit (AMD64)]"
            ]
        },
        {
            "attachments": {},
            "cell_type": "markdown",
            "metadata": {},
            "source": [
                "Qualquer uma das formas usadas acima, deve resultar no resultado mostrado abaixo do comando, conforme visto acima."
            ]
        },
        {
            "attachments": {},
            "cell_type": "markdown",
            "metadata": {},
            "source": [
                "Caso isso não aconteça, visite esse tutorial do [Real Python](https://realpython.com/add-python-to-path/), onde mostra como adicionar o Python às variáveis de ambientes dos sistemas operacionais `Windows`, `Linux` e `MacOS`."
            ]
        },
        {
            "attachments": {},
            "cell_type": "markdown",
            "metadata": {},
            "source": [
                "## Criando a Pasta do Projeto"
            ]
        },
        {
            "attachments": {},
            "cell_type": "markdown",
            "metadata": {},
            "source": [
                "O primeiro passo é criar a pasta do projeto diretamente no Windows Explorer ou então pelo terminal. Para este tutorial, vamos chamar ela de `futebol` e será criada no `Desktop`.\n",
                "\n",
                "Após criada a pasta, usamos o VS Code para abrir a pasta.\n",
                "\n",
                "Há duas formas de fazer isso :\n",
                "- na página inicial do VS Code chamada `bem-vindo` (`welcome`), vá em `Open Folder` (`Abrir Pasta`);\n",
                "- no menu superior, vá em `Files` (`Arquivos`) e depois em `Add Folder to Workspace` (`Adicionar Pasta à Área de Trabalho`);\n",
                "\n",
                "Para ambos os casos, selecione a pasta previamente criada."
            ]
        },
        {
            "attachments": {},
            "cell_type": "markdown",
            "metadata": {},
            "source": [
                "## Preparando o Local de Trabalho"
            ]
        },
        {
            "attachments": {},
            "cell_type": "markdown",
            "metadata": {},
            "source": [
                "Depois de abrir a pasta com o VS Code, abra o terminal integrado usando o atalho `Ctrl + '` ou indo em `View > Terminal`."
            ]
        },
        {
            "attachments": {},
            "cell_type": "markdown",
            "metadata": {},
            "source": [
                "Verifique se o Python foi corretamente carregado com `python --version` no terminal (caso tenha problemas, verifique a etapa anterior `Preparando os Programas`).\n",
                "\n",
                "Agora, vamos criar um ambiente virtual de trabalho.<br>\n",
                "Para maiores informações do porquê de usar um ambiente virtual, leia este artigo [Python Virtual Environments: A Primer](https://realpython.com/python-virtual-environments-a-primer/)."
            ]
        },
        {
            "attachments": {},
            "cell_type": "markdown",
            "metadata": {},
            "source": [
                "### Criando o Ambiente Virtual"
            ]
        },
        {
            "attachments": {},
            "cell_type": "markdown",
            "metadata": {},
            "source": [
                "Para criar um ambiente usamos o seguinte comando :"
            ]
        },
        {
            "cell_type": "code",
            "execution_count": null,
            "metadata": {
                "vscode": {
                    "languageId": "shellscript"
                }
            },
            "outputs": [],
            "source": [
                "# no prompt de comando do VS Code\n",
                "C:\\Users\\<seu usuario>\\Desktop\\futebol>python -m venv .venv"
            ]
        },
        {
            "attachments": {},
            "cell_type": "markdown",
            "metadata": {},
            "source": [
                "O comando acima chama o Python com o argumento -m, o criador do ambiente virtual `venv` e o nome da pasta que queremos dar para ele.<br>\n",
                "Para maiores informações sobre os argumentos no Python pelo Prompt de Comando, leia este artigo [Python Command-Line Arguments](https://realpython.com/python-command-line-arguments/).\n",
                "\n",
                "Seguiremos a convenção dos ambientes virtuais do Python e criar ele com o nome de `.venv`."
            ]
        },
        {
            "attachments": {},
            "cell_type": "markdown",
            "metadata": {},
            "source": [
                "### Ativando o Ambiente Virtual"
            ]
        },
        {
            "attachments": {},
            "cell_type": "markdown",
            "metadata": {},
            "source": [
                "Depois de criado, temos que ativar ele.\n",
                "\n",
                "Há dois locais para realizar essa ativação.\n",
                "\n",
                "- no terminal : execute o comando abaixo para ativar o ambiente virtual;"
            ]
        },
        {
            "cell_type": "code",
            "execution_count": null,
            "metadata": {
                "vscode": {
                    "languageId": "shellscript"
                }
            },
            "outputs": [],
            "source": [
                "# no prompt de comando do VS Code\n",
                "C:\\Users\\<seu usuario>\\Desktop\\futebol>.\\.venv\\Scripts\\activate"
            ]
        },
        {
            "attachments": {},
            "cell_type": "markdown",
            "metadata": {},
            "source": [
                "Depois de ativado, aparecerá no terminal o nome do ambiente ativado no começo da linha, conforme abaixo :"
            ]
        },
        {
            "cell_type": "code",
            "execution_count": null,
            "metadata": {
                "vscode": {
                    "languageId": "shellscript"
                }
            },
            "outputs": [],
            "source": [
                "# no prompt de comando do VS Code\n",
                "(.venv) C:\\Users\\<seu usuario>\\Desktop\\futebol>_"
            ]
        },
        {
            "attachments": {},
            "cell_type": "markdown",
            "metadata": {},
            "source": [
                "Isso indica que ele foi ativado com sucesso."
            ]
        },
        {
            "attachments": {},
            "cell_type": "markdown",
            "metadata": {},
            "source": [
                "- no VS Code : no canto inferior direito, aparecerá a vesão do Python que está usando. Clicando ali, ele irá questionar qual interpretador Python você gostaria de usar, selecione aquele que tiver `.venv` ao lado. Esse é o interpretador que o VS Code utilizará para validar o código Python."
            ]
        },
        {
            "attachments": {},
            "cell_type": "markdown",
            "metadata": {},
            "source": [
                "### Instalando os Pacotes"
            ]
        },
        {
            "attachments": {},
            "cell_type": "markdown",
            "metadata": {},
            "source": [
                "Depois de ativado o ambiente virtual no terminal, instale os pacotes do Python que serão usados para nosso projeto.\n",
                "\n",
                "- pylint e autopep8 : serão usados para inspecionar o código e buscar erros;\n",
                "- django : é o framework que usaremos para criar nosso site;\n",
                "\n",
                "Podemos instalar com apenas uma linha comando, conforme abaixo :"
            ]
        },
        {
            "cell_type": "code",
            "execution_count": null,
            "metadata": {
                "vscode": {
                    "languageId": "shellscript"
                }
            },
            "outputs": [],
            "source": [
                "# no prompt de comando do VS Code\n",
                "(.venv) C:\\Users\\<seu usuario>\\Desktop\\futebol>pip install pylint autopep8 django"
            ]
        },
        {
            "attachments": {},
            "cell_type": "markdown",
            "metadata": {},
            "source": [
                "Pode ser que você seja notificado para atualizar o pip.<br>\n",
                "Para isso, basta executar o comando abaixo para isso (que também será mostrado com o pedido) :"
            ]
        },
        {
            "cell_type": "code",
            "execution_count": null,
            "metadata": {
                "vscode": {
                    "languageId": "shellscript"
                }
            },
            "outputs": [],
            "source": [
                "# no prompt de comando do VS Code\n",
                "(.venv) C:\\Users\\<seu usuario>\\Desktop\\futebol>python -m pip install --upgrade pip"
            ]
        },
        {
            "attachments": {},
            "cell_type": "markdown",
            "metadata": {},
            "source": [
                "Para verificar se o django foi corretamente instalado, execute o comando abaixo :"
            ]
        },
        {
            "cell_type": "code",
            "execution_count": null,
            "metadata": {
                "vscode": {
                    "languageId": "shellscript"
                }
            },
            "outputs": [],
            "source": [
                "# no prompt de comando do VS Code\n",
                "(.venv) C:\\Users\\<seu usuario>\\Desktop\\futebol>django-admin version\n",
                "4.1.7"
            ]
        },
        {
            "attachments": {},
            "cell_type": "markdown",
            "metadata": {},
            "source": [
                "Se aparecer algum número, como o de cima, então temos o pacote instalado com sucesso e funcionando."
            ]
        },
        {
            "attachments": {},
            "cell_type": "markdown",
            "metadata": {},
            "source": [
                "## Iniciando o Projeto"
            ]
        },
        {
            "attachments": {},
            "cell_type": "markdown",
            "metadata": {},
            "source": [
                "Agora, finalmente, vamos criar o nosso projeto propriamente dito. Para isso, digitamos o comando abaixo :"
            ]
        },
        {
            "cell_type": "code",
            "execution_count": null,
            "metadata": {
                "vscode": {
                    "languageId": "shellscript"
                }
            },
            "outputs": [],
            "source": [
                "# no prompt de comando do VS Code\n",
                "(.venv) C:\\Users\\<seu usuario>\\Desktop\\futebol>django-admin startproject futebol ."
            ]
        },
        {
            "attachments": {},
            "cell_type": "markdown",
            "metadata": {},
            "source": [
                "Depois de executado, uma pasta `futebol` será criada e o módulo `manage.py`.<br>\n",
                "Veja abaixo como ficou a organização das pastas :\n",
                "```\n",
                "futebol/\n",
                "    manage.py\n",
                "    futebol/\n",
                "        __init__.py\n",
                "        settings.py\n",
                "        urls.py\n",
                "        asgi.py\n",
                "        wsgi.py\n",
                "```\n",
                "\n",
                "- a pasta externa `futebol/` : é a pasta raiz e container do nosso projeto. O nome não é realmente importante para o django, podemos alterar para o que quisermos;\n",
                "- `manage.py` : é um utilitário para a linha de comando que nos permite interagir com o projeto Django de várias formas. Mais detalhes sobre `manage.py` podem ser lidos em [django-admin e manage.py](https://docs.djangoproject.com/en/4.1/ref/django-admin/);\n",
                "- a pasta interna `futebol/` : é o real pacote Python para nosso projeto. Vai ser o centro administrativo e de controle do nosso projeto. Seu nome é o pacote Python que será necessário para importar qualquer coisa dentro dele (exemplo : `futebol.urls`);\n",
                "- `futebol/__init__.py` : é um módulo vazio que diz ao Python que esta pasta deve ser considerada um pacote Python. Mais pode ser lido na [documentação](https://docs.python.org/3/tutorial/modules.html#tut-packages);\n",
                "- `futebol/settings.py` : é o módulo de ajustes / configuração para o projeto Django. Mais pode ser lido [aqui](https://docs.djangoproject.com/en/4.1/topics/settings/);\n",
                "- `futebol/urls.py` : é o módulo responsável pelas declarações das URLs para o projeto Django. Mais pode ser lido em [URL dispacher](https://docs.djangoproject.com/en/4.1/topics/http/urls/);\n",
                "- `futebol/asgi.py` e `futebol/wsgi.py` : são arquivos de configuração usados quando o site for publicado;"
            ]
        },
        {
            "attachments": {},
            "cell_type": "markdown",
            "metadata": {},
            "source": [
                "Para executar o servidor, executamos o camando abaixo :"
            ]
        },
        {
            "cell_type": "code",
            "execution_count": null,
            "metadata": {
                "vscode": {
                    "languageId": "shellscript"
                }
            },
            "outputs": [],
            "source": [
                "# no prompt de comando do VS Code\n",
                "(.venv) C:\\Users\\<seu usuario>\\Desktop\\futebol>django-admin runserver"
            ]
        },
        {
            "attachments": {},
            "cell_type": "markdown",
            "metadata": {},
            "source": [
                "## Criando um Debugger"
            ]
        },
        {
            "cell_type": "markdown",
            "metadata": {},
            "source": [
                "Para facilitar nosso trabalho com o django, vamos criar um debugger com o json abaixo. Dessa forma, não será preciso reiniciar e interromper o servidor sempre que realizarmos qualquer alteração."
            ]
        },
        {
            "cell_type": "code",
            "execution_count": null,
            "metadata": {},
            "outputs": [],
            "source": [
                "# /.vscode/launch.json\n",
                "{\n",
                "    \"version\": \"0.2.0\",\n",
                "    \"configurations\": [\n",
                "        {\n",
                "            \"name\": \"Python Django\",\n",
                "            \"type\": \"python\",\n",
                "            \"request\": \"launch\",\n",
                "            \"program\": \"${workspaceFolder}/manage.py\",\n",
                "            \"args\": [\n",
                "                \"runserver\"\n",
                "            ],\n",
                "            \"django\": true,\n",
                "        }\n",
                "    ]\n",
                "}"
            ]
        },
        {
            "attachments": {},
            "cell_type": "markdown",
            "metadata": {},
            "source": [
                "## Criando o Primeiro Aplicativo"
            ]
        },
        {
            "attachments": {},
            "cell_type": "markdown",
            "metadata": {},
            "source": [
                "Nosso site terá vários aplicativos, que usaremos para configurar os subdomínios do nosso projeto.<br>\n",
                "Para criar os dois primeiros, executamos o camando abaixo :"
            ]
        },
        {
            "cell_type": "code",
            "execution_count": null,
            "metadata": {
                "vscode": {
                    "languageId": "shellscript"
                }
            },
            "outputs": [],
            "source": [
                "# no prompt de comando do VS Code\n",
                "(.venv) C:\\Users\\<seu usuario>\\Desktop\\futebol>python manage.py startapp gremio\n",
                "(.venv) C:\\Users\\<seu usuario>\\Desktop\\futebol>python manage.py startapp inter"
            ]
        },
        {
            "attachments": {},
            "cell_type": "markdown",
            "metadata": {},
            "source": [
                "Isso irá criar mais duas pastas na raiz do nosso projeto.\n",
                "```\n",
                "futebol/\n",
                "    manage.py\n",
                "    futebol/\n",
                "        __init__.py\n",
                "        settings.py\n",
                "        urls.py\n",
                "        asgi.py\n",
                "        wsgi.py\n",
                "    gremio/\n",
                "        migrations/\n",
                "            __init__.py\n",
                "        __init__.py\n",
                "        admin.py\n",
                "        apps.py\n",
                "        models.py\n",
                "        tests.py\n",
                "        views.py\n",
                "    inter/\n",
                "        migrations/\n",
                "            __init__.py\n",
                "        __init__.py\n",
                "        admin.py\n",
                "        apps.py\n",
                "        models.py\n",
                "        tests.py\n",
                "        views.py\n",
                "```"
            ]
        },
        {
            "attachments": {},
            "cell_type": "markdown",
            "metadata": {},
            "source": [
                "## Criando as Páginas HTML"
            ]
        },
        {
            "attachments": {},
            "cell_type": "markdown",
            "metadata": {},
            "source": [
                "Antes de continuarmos, temos que criar um modelo para nossas páginas HTML. Para isso, dentro de cada aplicativo, temos que criar uma pasta chamada `templates`, dentro dela criar uma nova pasta com o nome do aplicativo e por último, criamos mais duas pastas chamadas `parciais` e `paginas`; Dentro da pasta `paginas`, criaremos nosso arquivo HTML básico;<br>\n",
                "Veja abaixo como fica a organização de pastas do aplicativo `gremio` :\n",
                "```\n",
                "gremio/\n",
                "    migrations/\n",
                "        __init__.py\n",
                "    templates/\n",
                "        gremio/\n",
                "            paginas/\n",
                "                home.html\n",
                "            parciais/\n",
                "    __init__.py\n",
                "    admin.py\n",
                "    apps.py\n",
                "    models.py\n",
                "    tests.py\n",
                "    views.py\n",
                "```\n",
                "O mesmo será feito para o aplicativo `inter`, só alterando os nomes;"
            ]
        },
        {
            "attachments": {},
            "cell_type": "markdown",
            "metadata": {},
            "source": [
                "Quanto ao arquivo HTML dos dois aplicativos, basta criar o mais básico possível, como o modelo abaixo (alterando os nomes) :"
            ]
        },
        {
            "cell_type": "code",
            "execution_count": null,
            "metadata": {
                "vscode": {
                    "languageId": "html"
                }
            },
            "outputs": [],
            "source": [
                "<!-- /futebol/gremio/templates/gremio/paginas/home.html -->\n",
                "<!DOCTYPE html>\n",
                "<html lang=\"en\">\n",
                "<head>\n",
                "    <title>Grêmio</title>\n",
                "</head>\n",
                "<body>\n",
                "    <h1>Sou a home do GRÊMIO!</h1>\n",
                "</body>\n",
                "</html>"
            ]
        },
        {
            "attachments": {},
            "cell_type": "markdown",
            "metadata": {},
            "source": [
                "Esse é o HTML que carregaremos para nossas páginas web;"
            ]
        },
        {
            "attachments": {},
            "cell_type": "markdown",
            "metadata": {},
            "source": [
                "## Registrando as Páginas"
            ]
        },
        {
            "attachments": {},
            "cell_type": "markdown",
            "metadata": {},
            "source": [
                "Depois de criar as pastas e o HTML, temos alguns passos a seguir para carregar elas :\n",
                "- registrar no `settings.py` : vamos no arquivo `/futebol/futebol/settings.py` para adicionar nosso aplicativos na lista, conforme abaixo :"
            ]
        },
        {
            "cell_type": "code",
            "execution_count": null,
            "metadata": {},
            "outputs": [],
            "source": [
                "INSTALLED_APPS = [\n",
                "    'django.contrib.admin',\n",
                "    'django.contrib.auth',\n",
                "    'django.contrib.contenttypes',\n",
                "    'django.contrib.sessions',\n",
                "    'django.contrib.messages',\n",
                "    'django.contrib.staticfiles',\n",
                "    # meus aplicativos criados\n",
                "    'gremio',\n",
                "    'inter',\n",
                "]"
            ]
        },
        {
            "attachments": {},
            "cell_type": "markdown",
            "metadata": {},
            "source": [
                "- criar funções nas `views.py` : em cada uma das views dos aplicativos criados (`gremio` e `inter`), adicionaremos o seguinte código :"
            ]
        },
        {
            "cell_type": "code",
            "execution_count": null,
            "metadata": {},
            "outputs": [],
            "source": [
                "# /futebol/gremio/views.py\n",
                "from django.shortcuts import render\n",
                "\n",
                "def home(request):\n",
                "    return render(request, 'gremio/paginas/home.html')"
            ]
        },
        {
            "cell_type": "code",
            "execution_count": null,
            "metadata": {},
            "outputs": [],
            "source": [
                "# /futebol/inter/views.py\n",
                "from django.shortcuts import render\n",
                "\n",
                "def home(request):\n",
                "    return render(request, 'inter/paginas/home.html')"
            ]
        },
        {
            "attachments": {},
            "cell_type": "markdown",
            "metadata": {},
            "source": [
                "Repare que as pastas referenciadas logo após o `request` é referente à pasta **dentro** da `templates`, e não a página do aplicativo;\n",
                "\n",
                "Essas funções serão usadas para importar nos módulos `urls.py` que serão criados a seguir;"
            ]
        },
        {
            "attachments": {},
            "cell_type": "markdown",
            "metadata": {},
            "source": [
                "- criar os módulos `urls.py` : em cada um dos aplicativos criados (`gremio` e `inter`), criaremos um módulo `urls.py`;\n",
                "```\n",
                "futebol/\n",
                "    gremio/\n",
                "        migrations/\n",
                "            __init__.py\n",
                "        templates/\n",
                "            gremio/\n",
                "                paginas/\n",
                "                    home.html\n",
                "                parciais/\n",
                "        __init__.py\n",
                "        admin.py\n",
                "        apps.py\n",
                "        models.py\n",
                "        tests.py\n",
                "        urls.py <- módulo criado\n",
                "        views.py\n",
                "    inter/\n",
                "        migrations/\n",
                "            __init__.py\n",
                "        templates/\n",
                "            inter/\n",
                "                paginas/\n",
                "                    home.html\n",
                "                parciais/\n",
                "        __init__.py\n",
                "        admin.py\n",
                "        apps.py\n",
                "        models.py\n",
                "        tests.py\n",
                "        urls.py <- módulo criado\n",
                "        views.py\n",
                "```\n",
                "Depois de criado, adicionamos o seguinte código em cada módulo `urls.py`:"
            ]
        },
        {
            "cell_type": "code",
            "execution_count": null,
            "metadata": {},
            "outputs": [],
            "source": [
                "# /futebol/gremio/urls.py\n",
                "from django.urls import path\n",
                "from . import views\n",
                "\n",
                "urlpatterns = [\n",
                "    path('', views.home),  # home\n",
                "]"
            ]
        },
        {
            "cell_type": "code",
            "execution_count": null,
            "metadata": {},
            "outputs": [],
            "source": [
                "# /futebol/inter/urls.py\n",
                "from django.urls import path\n",
                "from . import views\n",
                "\n",
                "urlpatterns = [\n",
                "    path('', views.home),  # home\n",
                "]"
            ]
        },
        {
            "attachments": {},
            "cell_type": "markdown",
            "metadata": {},
            "source": [
                "- registrar no `urls.py` : vamos no arquivo `/futebol/futebol/urls.py` e adicionamos os subdomínios que acabamos de criar, conforme abaixo :"
            ]
        },
        {
            "cell_type": "code",
            "execution_count": null,
            "metadata": {},
            "outputs": [],
            "source": [
                "# /futebol/futebol/urls.py ANTES\n",
                "from django.contrib import admin\n",
                "from django.urls import path\n",
                "\n",
                "urlpatterns = [\n",
                "    path('admin/', admin.site.urls),\n",
                "]"
            ]
        },
        {
            "cell_type": "code",
            "execution_count": null,
            "metadata": {},
            "outputs": [],
            "source": [
                "# /futebol/futebol/urls.py DEPOIS\n",
                "from django.contrib import admin\n",
                "from django.urls import path, include\n",
                "\n",
                "urlpatterns = [\n",
                "    path('admin/', admin.site.urls),\n",
                "    path('gremio/', include('gremio.urls')),\n",
                "    path('inter/', include('inter.urls')),\n",
                "]"
            ]
        },
        {
            "attachments": {},
            "cell_type": "markdown",
            "metadata": {},
            "source": [
                "Agora, podemos acessar as nossas páginas usando os links `http://127.0.0.1:8000/gremio/` e `http://127.0.0.1:8000/inter/`;"
            ]
        },
        {
            "attachments": {},
            "cell_type": "markdown",
            "metadata": {},
            "source": [
                "## Digidindo o HTML"
            ]
        },
        {
            "attachments": {},
            "cell_type": "markdown",
            "metadata": {},
            "source": [
                "Um dos motivos de criarmos as pastas `paginas` e `parciais` é para que fosse possível dividir nosso código em mais de um arquivo e reaproveitar ele.\n",
                "\n",
                "Por exemplo : todas as páginas do `gremio` terão o mesmo cabeçalho (o conteúdo dentro da tag `head`);\n",
                "\n",
                "Para isso, vamos criar mais duas páginas, mas realizando todas as importações da tag head em cada uma delas, incluíndo a página home.html;"
            ]
        },
        {
            "cell_type": "code",
            "execution_count": null,
            "metadata": {
                "vscode": {
                    "languageId": "html"
                }
            },
            "outputs": [],
            "source": [
                "<!-- /futebol/gremio/templates/gremio/parciais/head.html -->\n",
                "<!DOCTYPE html>\n",
                "<html lang=\"en\">\n",
                "<head>\n",
                "    <title>Grêmio</title>\n",
                "</head>"
            ]
        },
        {
            "cell_type": "code",
            "execution_count": null,
            "metadata": {
                "vscode": {
                    "languageId": "html"
                }
            },
            "outputs": [],
            "source": [
                "<!-- /futebol/gremio/templates/gremio/paginas/home.html -->\n",
                "{% include 'gremio/parciais/head.html' %}\n",
                "<body>\n",
                "    <h1>Sou a home do GRÊMIO!</h1>\n",
                "</body>\n",
                "</html>"
            ]
        },
        {
            "attachments": {},
            "cell_type": "markdown",
            "metadata": {},
            "source": [
                "A agora as duas páginas criadas :"
            ]
        },
        {
            "cell_type": "code",
            "execution_count": null,
            "metadata": {
                "vscode": {
                    "languageId": "html"
                }
            },
            "outputs": [],
            "source": [
                "<!-- /futebol/gremio/templates/gremio/paginas/sobre.html -->\n",
                "{% include 'gremio/parciais/head.html' %}\n",
                "<body>\n",
                "    <h1>Sou a <b>sobre</b> do GRÊMIO!</h1>\n",
                "</body>\n",
                "</html>"
            ]
        },
        {
            "cell_type": "code",
            "execution_count": null,
            "metadata": {
                "vscode": {
                    "languageId": "html"
                }
            },
            "outputs": [],
            "source": [
                "<!-- /futebol/gremio/templates/gremio/paginas/contato.html -->\n",
                "{% include 'gremio/parciais/head.html' %}\n",
                "<body>\n",
                "    <h1>Sou a <b>contato</b> do GRÊMIO!</h1>\n",
                "</body>\n",
                "</html>"
            ]
        },
        {
            "attachments": {},
            "cell_type": "markdown",
            "metadata": {},
            "source": [
                "O trecho de código `{% include 'gremio/parciais/head.html' %}` vai incluir o arquivo `head.html` naquele ponto nos arquivos `home.html`, `sobre.html` e `contato.html`;"
            ]
        },
        {
            "attachments": {},
            "cell_type": "markdown",
            "metadata": {},
            "source": [
                "Assim como a `home`, temos que criar as funções nas respectivas `views.py` para poder chamá-las no arquivo `urls.py`;\n",
                "\n",
                "O exemplo a seguir é para incluir as funções no aplicativo `gremio`, mas o mesmo se aplica ao aplicativo `inter`;"
            ]
        },
        {
            "cell_type": "code",
            "execution_count": null,
            "metadata": {},
            "outputs": [],
            "source": [
                "# /futebol/gremio/views.py\n",
                "from django.shortcuts import render\n",
                "\n",
                "\n",
                "def home(request):\n",
                "    return render(request, 'gremio/paginas/home.html')\n",
                "\n",
                "# novas funções adicionadas abaixo\n",
                "def sobre(request):\n",
                "    return render(request, 'gremio/paginas/sobre.html')\n",
                "\n",
                "\n",
                "def contato(request):\n",
                "    return render(request, 'gremio/paginas/contato.html')\n"
            ]
        },
        {
            "cell_type": "code",
            "execution_count": null,
            "metadata": {},
            "outputs": [],
            "source": [
                "# /futebol/gremio/urls.py\n",
                "from django.urls import path\n",
                "from . import views\n",
                "\n",
                "urlpatterns = [\n",
                "    path('', views.home),  # home\n",
                "    path('sobre', views.sobre),  # sobre\n",
                "    path('contato', views.contato),  # contato\n",
                "]\n"
            ]
        },
        {
            "attachments": {},
            "cell_type": "markdown",
            "metadata": {},
            "source": [
                "Agora, nossas páginas estão sendo carregadas corretamente. Os documentos HTML estão sendo montados pelo Django e enviados para o browser como uma página completa. Isso ajuda na reusabilidade de código e, se precisarmos alterar alguma coisa, alteramos apenas no arquivo `head.html`, em vez de outros 3 arquivos (`home.html`, `sobre.html` e `contato.html`);\n",
                "\n",
                "Um exemplo, é o carregamento de arquivos estáticos;"
            ]
        },
        {
            "attachments": {},
            "cell_type": "markdown",
            "metadata": {},
            "source": [
                "## Carregando os Arquivos Estáticos"
            ]
        },
        {
            "attachments": {},
            "cell_type": "markdown",
            "metadata": {},
            "source": [
                "Arquivos estáticos são arquivos de estilos (CSS), de scripts (JavaScript) e imagens (jpg, png).\n",
                "\n",
                "Para carregarmos esses arquivos no Django, temos que criar uma pasta chamda `static` dentro de cada aplicativo, dentro dela criar uma outra pasta com o mesmo nome do aplicativo (como fizemos com a pasta `templates`) e depois a pasta para o arquivo específico.\n",
                "\n",
                "Veja abaixo como vai ficar nossa estrutura de arquivos do aplicativo `gremio`, já criando o arquivo de estilo.css e a imagem (o mesmo vale para o aplicativo `inter`) :\n",
                "```\n",
                "futebol/\n",
                "    gremio/\n",
                "        migrations/\n",
                "            __init__.py\n",
                "        static/\n",
                "            gremio/\n",
                "                css/\n",
                "                    estilo.css\n",
                "                imgs/\n",
                "                    escudo.jpg\n",
                "        templates/\n",
                "            gremio/\n",
                "                paginas/\n",
                "                    home.html\n",
                "                parciais/\n",
                "        __init__.py\n",
                "        admin.py\n",
                "        apps.py\n",
                "        models.py\n",
                "        tests.py\n",
                "        urls.py\n",
                "        views.py\n",
                "```"
            ]
        },
        {
            "attachments": {},
            "cell_type": "markdown",
            "metadata": {},
            "source": [
                "Uma vez criada as pastas, temos que importá-las nas nossas páginas.\n",
                "\n",
                "Como a importação do CSS se dá dentro da tag head, temos que alterar apenas o arquivo `head.html`. Para isso, inicializamos o static carregando ele no topo do arquivo html e depois chamamos o arquivo CSS conforme o código abaixo :"
            ]
        },
        {
            "cell_type": "code",
            "execution_count": null,
            "metadata": {
                "vscode": {
                    "languageId": "html"
                }
            },
            "outputs": [],
            "source": [
                "<!-- /futebol/gremio/templates/gremio/parciais/head.html -->\n",
                "{% load static %}\n",
                "<!DOCTYPE html>\n",
                "<html lang=\"en\">\n",
                "<head>\n",
                "    <link rel=\"stylesheet\" href=\"{% static 'gremio/css/estilo.css' %}\">\n",
                "    <title>GRÊMIO</title>\n",
                "</head>"
            ]
        },
        {
            "attachments": {},
            "cell_type": "markdown",
            "metadata": {},
            "source": [
                "O mesmo se aplica para o aplciativo do `inter`, apenas atualizando os nomes das pastas."
            ]
        },
        {
            "attachments": {},
            "cell_type": "markdown",
            "metadata": {},
            "source": [
                "Já a imagem `escudo.jpg` vamos chamar apenas na página `home.html` de cada aplicativo; Basta usarmos a mesma importação do `load` e do arquivo, conforme no html abaixo :"
            ]
        },
        {
            "cell_type": "code",
            "execution_count": null,
            "metadata": {
                "vscode": {
                    "languageId": "html"
                }
            },
            "outputs": [],
            "source": [
                "<!-- /futebol/gremio/templates/gremio/paginas/home.html -->\n",
                "{% load static %}\n",
                "{% include 'gremio/parciais/head.html' %}\n",
                "<body>\n",
                "    <h1>Sou a home do GRÊMIO!</h1>\n",
                "    <img src=\"{% static 'gremio/imgs/escudo.jpg' %}\">\n",
                "</body>\n",
                "</html>"
            ]
        },
        {
            "attachments": {},
            "cell_type": "markdown",
            "metadata": {},
            "source": [
                "**`PS`** : caso as imagens não estejam sendo carregadas ou o CSS, salve um arquivo Python do projeto para que o servidor seja reiniciado;"
            ]
        },
        {
            "attachments": {},
            "cell_type": "markdown",
            "metadata": {},
            "source": [
                "## Criando um Menu"
            ]
        },
        {
            "attachments": {},
            "cell_type": "markdown",
            "metadata": {},
            "source": [
                "Para criarmos um menu navegável pelo nosso aplicativo, temos que usar a `tag url` do Django, mas para funcionar corretamente, temos que dar um nome para nossas páginas no arquivo de `urls.py` do aplicativo. Também temos que criar uma variável chamada `app_name`, que servirá para distinguir as páginas de cada aplicativo.\n",
                "\n",
                "Veja como fica o módulo `urls.py` :"
            ]
        },
        {
            "cell_type": "code",
            "execution_count": null,
            "metadata": {},
            "outputs": [],
            "source": [
                "# /futebol/gremio/urls.py\n",
                "from django.urls import path\n",
                "from . import views\n",
                "\n",
                "app_name = 'gremio'\n",
                "urlpatterns = [\n",
                "    path('', views.home, name='home'),  # home\n",
                "    path('sobre', views.sobre, name='sobre'),  # sobre\n",
                "    path('contato', views.contato, name='contato'),  # contato\n",
                "]"
            ]
        },
        {
            "attachments": {},
            "cell_type": "markdown",
            "metadata": {},
            "source": [
                "Repare que agora passamos um argumento nomeado para a função `path`. Usaremos esse valor para referenciar cada página especificada na views.\n",
                "\n",
                "Para usarmos no HTML, temos que usar a tag `{% url 'app_name:name' %}` nos links, substituindo o `name` pelo exato valor que passamos na função `path` logo acima, sendo cada um a referência para a respectiva página, e o `app_name` será o valor de definimos no `urls.py`.\n",
                "\n",
                "Veja o exemplo abaixo :"
            ]
        },
        {
            "cell_type": "code",
            "execution_count": null,
            "metadata": {
                "vscode": {
                    "languageId": "html"
                }
            },
            "outputs": [],
            "source": [
                "<!-- /futebol/gremio/templates/gremio/parciais/menu.html -->\n",
                "<div id=\"menu-gremio\">\n",
                "    <ul>\n",
                "        <li><a href=\"{% url 'gremio:home' %}\">HOME</a></li>\n",
                "        <li><a href=\"{% url 'gremio:sobre' %}\">SOBRE</a></li>\n",
                "        <li><a href=\"{% url 'gremio:contato' %}\">CONTATO</a></li>\n",
                "    </ul>\n",
                "</div>"
            ]
        },
        {
            "attachments": {},
            "cell_type": "markdown",
            "metadata": {},
            "source": [
                "Uma vez que o `menu.html` foi criado, basta chamarmos ele (assim como fizemos com o `head.html`) nas nossas páginas `home.html`, `sobre.html` e `contato.html`."
            ]
        },
        {
            "attachments": {},
            "cell_type": "markdown",
            "metadata": {},
            "source": [
                "Abaixo temos o exemplo do menu sendo importado no arquivo `home.html` do aplicativo `gremio`. Depois, basta repetirmos o processo para as outras páginas `sobre.html` e `contato.html`."
            ]
        },
        {
            "cell_type": "code",
            "execution_count": null,
            "metadata": {
                "vscode": {
                    "languageId": "html"
                }
            },
            "outputs": [],
            "source": [
                "{% load static %}\n",
                "{% include 'gremio/parciais/head.html' %}\n",
                "<body>\n",
                "    <h1>Sou a home do GRÊMIO!</h1>\n",
                "    {% include 'gremio/parciais/menu.html' %}\n",
                "    <img src=\"{% static 'gremio/imgs/escudo.jpg' %}\">\n",
                "</body>\n",
                "</html>"
            ]
        },
        {
            "attachments": {},
            "cell_type": "markdown",
            "metadata": {},
            "source": [
                "Depois é só repetir o mesmo processo acima para o aplicativo do `inter`."
            ]
        }
    ],
    "metadata": {
        "kernelspec": {
            "display_name": "Python 3",
            "language": "python",
            "name": "python3"
        },
        "language_info": {
            "codemirror_mode": {
                "name": "ipython",
                "version": 3
            },
            "file_extension": ".py",
            "mimetype": "text/x-python",
            "name": "python",
            "nbconvert_exporter": "python",
            "pygments_lexer": "ipython3",
            "version": "3.11.1"
        },
        "orig_nbformat": 4,
        "vscode": {
            "interpreter": {
                "hash": "b37f6842cfa5693682ca177646b86562e7e6680399d6aa97975ae5063d95e764"
            }
        }
    },
    "nbformat": 4,
    "nbformat_minor": 2
}
